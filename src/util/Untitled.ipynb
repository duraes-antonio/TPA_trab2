{
 "cells": [
  {
   "cell_type": "code",
   "execution_count": 2,
   "metadata": {},
   "outputs": [],
   "source": [
    "import matplotlib.pyplot as plt\n",
    "import pandas as pd\n",
    "\n",
    "%matplotlib inline\n",
    "%config IPCompleter.greedy=True"
   ]
  },
  {
   "cell_type": "code",
   "execution_count": 15,
   "metadata": {},
   "outputs": [],
   "source": [
    "heapsort = pd.read_csv('../../resultados/heapsort/heapsort_10.csv', encoding='ISO-8859-1', delimiter=';')"
   ]
  },
  {
   "cell_type": "code",
   "execution_count": 24,
   "metadata": {},
   "outputs": [
    {
     "data": {
      "text/plain": [
       "0.0"
      ]
     },
     "execution_count": 24,
     "metadata": {},
     "output_type": "execute_result"
    }
   ],
   "source": [
    "heapsort[\"duracao (ms)\"].max()"
   ]
  },
  {
   "cell_type": "code",
   "execution_count": 25,
   "metadata": {},
   "outputs": [
    {
     "data": {
      "text/plain": [
       "0.0"
      ]
     },
     "execution_count": 25,
     "metadata": {},
     "output_type": "execute_result"
    }
   ],
   "source": [
    "heapsort[\"duracao (ms)\"].min()"
   ]
  },
  {
   "cell_type": "code",
   "execution_count": 147,
   "metadata": {},
   "outputs": [],
   "source": [
    "import pandas as pd\n",
    "import glob\n",
    "\n",
    "path = '../../resultados/heapsort' # use your path\n",
    "all_files = glob.glob(path + \"/*.csv\")\n",
    "all_files.sort()\n",
    "li = []\n",
    "\n",
    "d = {'n': [], 'minimo': [],'maximo': [], 'media': [] }\n",
    "df_res = pd.DataFrame(data=d)\n",
    "\n",
    "for filename in all_files:\n",
    "    df = pd.read_csv(filename, index_col=None, header=0,  delimiter=';', encoding='ISO-8859-1')\n",
    "    n = filename[35:-4]\n",
    "    minimo = df[\"duracao (ms)\"].min()\n",
    "    maximo = df[\"duracao (ms)\"].max()\n",
    "    media = df[\"duracao (ms)\"].mean()\n",
    "    df_res.loc[len(df_res)] = [n,minimo,maximo,media]\n",
    "    li.append(df)\n",
    "\n",
    "frame = pd.concat(li, axis=0, ignore_index=True)"
   ]
  },
  {
   "cell_type": "code",
   "execution_count": 148,
   "metadata": {},
   "outputs": [
    {
     "data": {
      "text/html": [
       "<div>\n",
       "<style scoped>\n",
       "    .dataframe tbody tr th:only-of-type {\n",
       "        vertical-align: middle;\n",
       "    }\n",
       "\n",
       "    .dataframe tbody tr th {\n",
       "        vertical-align: top;\n",
       "    }\n",
       "\n",
       "    .dataframe thead th {\n",
       "        text-align: right;\n",
       "    }\n",
       "</style>\n",
       "<table border=\"1\" class=\"dataframe\">\n",
       "  <thead>\n",
       "    <tr style=\"text-align: right;\">\n",
       "      <th></th>\n",
       "      <th>n</th>\n",
       "      <th>minimo</th>\n",
       "      <th>maximo</th>\n",
       "      <th>media</th>\n",
       "    </tr>\n",
       "  </thead>\n",
       "  <tbody>\n",
       "    <tr>\n",
       "      <th>0</th>\n",
       "      <td>10</td>\n",
       "      <td>0.000000</td>\n",
       "      <td>0.000000</td>\n",
       "      <td>0.000000</td>\n",
       "    </tr>\n",
       "    <tr>\n",
       "      <th>1</th>\n",
       "      <td>100</td>\n",
       "      <td>0.000000</td>\n",
       "      <td>0.000000</td>\n",
       "      <td>0.000000</td>\n",
       "    </tr>\n",
       "    <tr>\n",
       "      <th>2</th>\n",
       "      <td>1000</td>\n",
       "      <td>0.000000</td>\n",
       "      <td>15.670300</td>\n",
       "      <td>7.819295</td>\n",
       "    </tr>\n",
       "    <tr>\n",
       "      <th>3</th>\n",
       "      <td>10000</td>\n",
       "      <td>109.309196</td>\n",
       "      <td>218.649626</td>\n",
       "      <td>143.707728</td>\n",
       "    </tr>\n",
       "    <tr>\n",
       "      <th>4</th>\n",
       "      <td>100000</td>\n",
       "      <td>1666.291952</td>\n",
       "      <td>2249.510288</td>\n",
       "      <td>2013.061357</td>\n",
       "    </tr>\n",
       "    <tr>\n",
       "      <th>5</th>\n",
       "      <td>1000000</td>\n",
       "      <td>23025.793791</td>\n",
       "      <td>24072.464943</td>\n",
       "      <td>23507.825875</td>\n",
       "    </tr>\n",
       "    <tr>\n",
       "      <th>6</th>\n",
       "      <td>25</td>\n",
       "      <td>0.000000</td>\n",
       "      <td>0.000000</td>\n",
       "      <td>0.000000</td>\n",
       "    </tr>\n",
       "    <tr>\n",
       "      <th>7</th>\n",
       "      <td>250</td>\n",
       "      <td>0.000000</td>\n",
       "      <td>15.614748</td>\n",
       "      <td>1.561475</td>\n",
       "    </tr>\n",
       "    <tr>\n",
       "      <th>8</th>\n",
       "      <td>2500</td>\n",
       "      <td>15.587091</td>\n",
       "      <td>46.866655</td>\n",
       "      <td>32.791877</td>\n",
       "    </tr>\n",
       "    <tr>\n",
       "      <th>9</th>\n",
       "      <td>25000</td>\n",
       "      <td>343.620777</td>\n",
       "      <td>390.570164</td>\n",
       "      <td>368.649077</td>\n",
       "    </tr>\n",
       "    <tr>\n",
       "      <th>10</th>\n",
       "      <td>250000</td>\n",
       "      <td>5342.527628</td>\n",
       "      <td>8685.410500</td>\n",
       "      <td>6686.400676</td>\n",
       "    </tr>\n",
       "    <tr>\n",
       "      <th>11</th>\n",
       "      <td>2500000</td>\n",
       "      <td>58923.679829</td>\n",
       "      <td>60735.078812</td>\n",
       "      <td>59638.880229</td>\n",
       "    </tr>\n",
       "    <tr>\n",
       "      <th>12</th>\n",
       "      <td>50</td>\n",
       "      <td>0.000000</td>\n",
       "      <td>15.620470</td>\n",
       "      <td>1.562047</td>\n",
       "    </tr>\n",
       "    <tr>\n",
       "      <th>13</th>\n",
       "      <td>500</td>\n",
       "      <td>0.000000</td>\n",
       "      <td>15.666008</td>\n",
       "      <td>7.810783</td>\n",
       "    </tr>\n",
       "    <tr>\n",
       "      <th>14</th>\n",
       "      <td>5000</td>\n",
       "      <td>46.867609</td>\n",
       "      <td>93.765974</td>\n",
       "      <td>74.994898</td>\n",
       "    </tr>\n",
       "    <tr>\n",
       "      <th>15</th>\n",
       "      <td>50000</td>\n",
       "      <td>796.725512</td>\n",
       "      <td>1259.807587</td>\n",
       "      <td>938.295555</td>\n",
       "    </tr>\n",
       "    <tr>\n",
       "      <th>16</th>\n",
       "      <td>500000</td>\n",
       "      <td>11538.764715</td>\n",
       "      <td>15730.661392</td>\n",
       "      <td>12786.564326</td>\n",
       "    </tr>\n",
       "    <tr>\n",
       "      <th>17</th>\n",
       "      <td>5000000</td>\n",
       "      <td>122330.625057</td>\n",
       "      <td>134062.219381</td>\n",
       "      <td>125345.536923</td>\n",
       "    </tr>\n",
       "    <tr>\n",
       "      <th>18</th>\n",
       "      <td>75</td>\n",
       "      <td>0.000000</td>\n",
       "      <td>0.000000</td>\n",
       "      <td>0.000000</td>\n",
       "    </tr>\n",
       "    <tr>\n",
       "      <th>19</th>\n",
       "      <td>750</td>\n",
       "      <td>0.000000</td>\n",
       "      <td>15.660524</td>\n",
       "      <td>9.382343</td>\n",
       "    </tr>\n",
       "    <tr>\n",
       "      <th>20</th>\n",
       "      <td>7500</td>\n",
       "      <td>78.102112</td>\n",
       "      <td>156.212330</td>\n",
       "      <td>115.601993</td>\n",
       "    </tr>\n",
       "    <tr>\n",
       "      <th>21</th>\n",
       "      <td>75000</td>\n",
       "      <td>1265.290022</td>\n",
       "      <td>1749.589205</td>\n",
       "      <td>1514.712906</td>\n",
       "    </tr>\n",
       "    <tr>\n",
       "      <th>22</th>\n",
       "      <td>750000</td>\n",
       "      <td>17105.311155</td>\n",
       "      <td>20776.360273</td>\n",
       "      <td>17956.210589</td>\n",
       "    </tr>\n",
       "    <tr>\n",
       "      <th>23</th>\n",
       "      <td>7500000</td>\n",
       "      <td>191533.100605</td>\n",
       "      <td>198640.839577</td>\n",
       "      <td>194773.193383</td>\n",
       "    </tr>\n",
       "  </tbody>\n",
       "</table>\n",
       "</div>"
      ],
      "text/plain": [
       "          n         minimo         maximo          media\n",
       "0        10       0.000000       0.000000       0.000000\n",
       "1       100       0.000000       0.000000       0.000000\n",
       "2      1000       0.000000      15.670300       7.819295\n",
       "3     10000     109.309196     218.649626     143.707728\n",
       "4    100000    1666.291952    2249.510288    2013.061357\n",
       "5   1000000   23025.793791   24072.464943   23507.825875\n",
       "6        25       0.000000       0.000000       0.000000\n",
       "7       250       0.000000      15.614748       1.561475\n",
       "8      2500      15.587091      46.866655      32.791877\n",
       "9     25000     343.620777     390.570164     368.649077\n",
       "10   250000    5342.527628    8685.410500    6686.400676\n",
       "11  2500000   58923.679829   60735.078812   59638.880229\n",
       "12       50       0.000000      15.620470       1.562047\n",
       "13      500       0.000000      15.666008       7.810783\n",
       "14     5000      46.867609      93.765974      74.994898\n",
       "15    50000     796.725512    1259.807587     938.295555\n",
       "16   500000   11538.764715   15730.661392   12786.564326\n",
       "17  5000000  122330.625057  134062.219381  125345.536923\n",
       "18       75       0.000000       0.000000       0.000000\n",
       "19      750       0.000000      15.660524       9.382343\n",
       "20     7500      78.102112     156.212330     115.601993\n",
       "21    75000    1265.290022    1749.589205    1514.712906\n",
       "22   750000   17105.311155   20776.360273   17956.210589\n",
       "23  7500000  191533.100605  198640.839577  194773.193383"
      ]
     },
     "execution_count": 148,
     "metadata": {},
     "output_type": "execute_result"
    }
   ],
   "source": [
    "df_res"
   ]
  },
  {
   "cell_type": "code",
   "execution_count": 113,
   "metadata": {},
   "outputs": [],
   "source": [
    "d = {'n': [], 'minimo': [],'maximo': [], 'media': [] }\n",
    "df_res = pd.DataFrame(data=d)"
   ]
  },
  {
   "cell_type": "code",
   "execution_count": 131,
   "metadata": {},
   "outputs": [
    {
     "data": {
      "text/plain": [
       "0    5\n",
       "n    5\n",
       "Name: n, dtype: int64"
      ]
     },
     "execution_count": 131,
     "metadata": {},
     "output_type": "execute_result"
    }
   ],
   "source": [
    "df_res[\"n\"]"
   ]
  },
  {
   "cell_type": "code",
   "execution_count": null,
   "metadata": {},
   "outputs": [],
   "source": [
    "df_res"
   ]
  },
  {
   "cell_type": "code",
   "execution_count": null,
   "metadata": {},
   "outputs": [],
   "source": []
  }
 ],
 "metadata": {
  "kernelspec": {
   "display_name": "Python 3",
   "language": "python",
   "name": "python3"
  },
  "language_info": {
   "codemirror_mode": {
    "name": "ipython",
    "version": 3
   },
   "file_extension": ".py",
   "mimetype": "text/x-python",
   "name": "python",
   "nbconvert_exporter": "python",
   "pygments_lexer": "ipython3",
   "version": "3.6.7"
  }
 },
 "nbformat": 4,
 "nbformat_minor": 2
}
